{
 "cells": [
  {
   "cell_type": "markdown",
   "id": "c87fd39b",
   "metadata": {},
   "source": [
    "# 출생아 수 합계 출산율"
   ]
  },
  {
   "cell_type": "code",
   "execution_count": 3,
   "id": "e8cb719c",
   "metadata": {},
   "outputs": [
    {
     "name": "stderr",
     "output_type": "stream",
     "text": [
      "C:\\Users\\user\\anaconda3\\lib\\site-packages\\openpyxl\\styles\\stylesheet.py:226: UserWarning: Workbook contains no default style, apply openpyxl's default\n",
      "  warn(\"Workbook contains no default style, apply openpyxl's default\")\n"
     ]
    },
    {
     "data": {
      "text/html": [
       "<div>\n",
       "<style scoped>\n",
       "    .dataframe tbody tr th:only-of-type {\n",
       "        vertical-align: middle;\n",
       "    }\n",
       "\n",
       "    .dataframe tbody tr th {\n",
       "        vertical-align: top;\n",
       "    }\n",
       "\n",
       "    .dataframe thead th {\n",
       "        text-align: right;\n",
       "    }\n",
       "</style>\n",
       "<table border=\"1\" class=\"dataframe\">\n",
       "  <thead>\n",
       "    <tr style=\"text-align: right;\">\n",
       "      <th></th>\n",
       "      <th>2012</th>\n",
       "      <th>2013</th>\n",
       "      <th>2014</th>\n",
       "      <th>2015</th>\n",
       "      <th>2016</th>\n",
       "      <th>2017</th>\n",
       "      <th>2018</th>\n",
       "      <th>2019</th>\n",
       "      <th>2020</th>\n",
       "      <th>2021</th>\n",
       "    </tr>\n",
       "  </thead>\n",
       "  <tbody>\n",
       "    <tr>\n",
       "      <th>출생아 수</th>\n",
       "      <td>484.600</td>\n",
       "      <td>436.500</td>\n",
       "      <td>435.400</td>\n",
       "      <td>438.400</td>\n",
       "      <td>406.200</td>\n",
       "      <td>357.800</td>\n",
       "      <td>326.800</td>\n",
       "      <td>302.700</td>\n",
       "      <td>272.300</td>\n",
       "      <td>260.600</td>\n",
       "    </tr>\n",
       "    <tr>\n",
       "      <th>합계 출산율</th>\n",
       "      <td>1.297</td>\n",
       "      <td>1.187</td>\n",
       "      <td>1.205</td>\n",
       "      <td>1.239</td>\n",
       "      <td>1.172</td>\n",
       "      <td>1.052</td>\n",
       "      <td>0.977</td>\n",
       "      <td>0.918</td>\n",
       "      <td>0.837</td>\n",
       "      <td>0.808</td>\n",
       "    </tr>\n",
       "  </tbody>\n",
       "</table>\n",
       "</div>"
      ],
      "text/plain": [
       "           2012     2013     2014     2015     2016     2017     2018  \\\n",
       "출생아 수   484.600  436.500  435.400  438.400  406.200  357.800  326.800   \n",
       "합계 출산율    1.297    1.187    1.205    1.239    1.172    1.052    0.977   \n",
       "\n",
       "           2019     2020     2021  \n",
       "출생아 수   302.700  272.300  260.600  \n",
       "합계 출산율    0.918    0.837    0.808  "
      ]
     },
     "execution_count": 3,
     "metadata": {},
     "output_type": "execute_result"
    }
   ],
   "source": [
    "import pandas as pd\n",
    "df = pd.read_excel('142801_20230416230532809_excel.xlsx',skiprows=2, nrows=2, index_col=0) # nrows = 위에서 부터 n개의 수만 불러온다\n",
    "df"
   ]
  },
  {
   "cell_type": "code",
   "execution_count": 9,
   "id": "41b539e1",
   "metadata": {},
   "outputs": [
    {
     "data": {
      "text/plain": [
       "Index(['출생아 수', '합계 출산율'], dtype='object')"
      ]
     },
     "execution_count": 9,
     "metadata": {},
     "output_type": "execute_result"
    }
   ],
   "source": [
    "df.index"
   ]
  },
  {
   "cell_type": "code",
   "execution_count": 11,
   "id": "a59dca0a",
   "metadata": {},
   "outputs": [
    {
     "data": {
      "text/plain": [
       "array(['출생아\\xa0수', '합계\\xa0출산율'], dtype=object)"
      ]
     },
     "execution_count": 11,
     "metadata": {},
     "output_type": "execute_result"
    }
   ],
   "source": [
    "df.index.values "
   ]
  },
  {
   "cell_type": "code",
   "execution_count": 15,
   "id": "92222adf",
   "metadata": {},
   "outputs": [
    {
     "data": {
      "text/html": [
       "<div>\n",
       "<style scoped>\n",
       "    .dataframe tbody tr th:only-of-type {\n",
       "        vertical-align: middle;\n",
       "    }\n",
       "\n",
       "    .dataframe tbody tr th {\n",
       "        vertical-align: top;\n",
       "    }\n",
       "\n",
       "    .dataframe thead th {\n",
       "        text-align: right;\n",
       "    }\n",
       "</style>\n",
       "<table border=\"1\" class=\"dataframe\">\n",
       "  <thead>\n",
       "    <tr style=\"text-align: right;\">\n",
       "      <th></th>\n",
       "      <th>2012</th>\n",
       "      <th>2013</th>\n",
       "      <th>2014</th>\n",
       "      <th>2015</th>\n",
       "      <th>2016</th>\n",
       "      <th>2017</th>\n",
       "      <th>2018</th>\n",
       "      <th>2019</th>\n",
       "      <th>2020</th>\n",
       "      <th>2021</th>\n",
       "    </tr>\n",
       "  </thead>\n",
       "  <tbody>\n",
       "    <tr>\n",
       "      <th>출생아 수</th>\n",
       "      <td>484.600</td>\n",
       "      <td>436.500</td>\n",
       "      <td>435.400</td>\n",
       "      <td>438.400</td>\n",
       "      <td>406.200</td>\n",
       "      <td>357.800</td>\n",
       "      <td>326.800</td>\n",
       "      <td>302.700</td>\n",
       "      <td>272.300</td>\n",
       "      <td>260.600</td>\n",
       "    </tr>\n",
       "    <tr>\n",
       "      <th>합계 출산율</th>\n",
       "      <td>1.297</td>\n",
       "      <td>1.187</td>\n",
       "      <td>1.205</td>\n",
       "      <td>1.239</td>\n",
       "      <td>1.172</td>\n",
       "      <td>1.052</td>\n",
       "      <td>0.977</td>\n",
       "      <td>0.918</td>\n",
       "      <td>0.837</td>\n",
       "      <td>0.808</td>\n",
       "    </tr>\n",
       "  </tbody>\n",
       "</table>\n",
       "</div>"
      ],
      "text/plain": [
       "           2012     2013     2014     2015     2016     2017     2018  \\\n",
       "출생아 수   484.600  436.500  435.400  438.400  406.200  357.800  326.800   \n",
       "합계 출산율    1.297    1.187    1.205    1.239    1.172    1.052    0.977   \n",
       "\n",
       "           2019     2020     2021  \n",
       "출생아 수   302.700  272.300  260.600  \n",
       "합계 출산율    0.918    0.837    0.808  "
      ]
     },
     "execution_count": 15,
     "metadata": {},
     "output_type": "execute_result"
    }
   ],
   "source": [
    "df.rename(index={'출생아\\xa0수':'출생아 수', '합계\\xa0출산율':'합계 출산율'}, inplace = True) # index 변경\n",
    "df"
   ]
  },
  {
   "cell_type": "code",
   "execution_count": 17,
   "id": "d64f0b6d",
   "metadata": {},
   "outputs": [
    {
     "data": {
      "text/plain": [
       "array(['출생아 수', '합계 출산율'], dtype=object)"
      ]
     },
     "execution_count": 17,
     "metadata": {},
     "output_type": "execute_result"
    }
   ],
   "source": [
    "df.index.values"
   ]
  },
  {
   "cell_type": "code",
   "execution_count": 23,
   "id": "795ef958",
   "metadata": {},
   "outputs": [
    {
     "data": {
      "text/plain": [
       "2012    484.6\n",
       "2013    436.5\n",
       "2014    435.4\n",
       "2015    438.4\n",
       "2016    406.2\n",
       "2017    357.8\n",
       "2018    326.8\n",
       "2019    302.7\n",
       "2020    272.3\n",
       "2021    260.6\n",
       "Name: 출생아 수, dtype: float64"
      ]
     },
     "execution_count": 23,
     "metadata": {},
     "output_type": "execute_result"
    }
   ],
   "source": [
    "df.loc['출생아 수']"
   ]
  },
  {
   "cell_type": "code",
   "execution_count": 24,
   "id": "6b371a1a",
   "metadata": {},
   "outputs": [
    {
     "data": {
      "text/plain": [
       "2012    484.6\n",
       "2013    436.5\n",
       "2014    435.4\n",
       "2015    438.4\n",
       "2016    406.2\n",
       "2017    357.8\n",
       "2018    326.8\n",
       "2019    302.7\n",
       "2020    272.3\n",
       "2021    260.6\n",
       "Name: 출생아 수, dtype: float64"
      ]
     },
     "execution_count": 24,
     "metadata": {},
     "output_type": "execute_result"
    }
   ],
   "source": [
    "df.iloc[0]"
   ]
  },
  {
   "cell_type": "code",
   "execution_count": 25,
   "id": "48803d27",
   "metadata": {},
   "outputs": [
    {
     "data": {
      "text/html": [
       "<div>\n",
       "<style scoped>\n",
       "    .dataframe tbody tr th:only-of-type {\n",
       "        vertical-align: middle;\n",
       "    }\n",
       "\n",
       "    .dataframe tbody tr th {\n",
       "        vertical-align: top;\n",
       "    }\n",
       "\n",
       "    .dataframe thead th {\n",
       "        text-align: right;\n",
       "    }\n",
       "</style>\n",
       "<table border=\"1\" class=\"dataframe\">\n",
       "  <thead>\n",
       "    <tr style=\"text-align: right;\">\n",
       "      <th></th>\n",
       "      <th>2012</th>\n",
       "      <th>2013</th>\n",
       "      <th>2014</th>\n",
       "      <th>2015</th>\n",
       "      <th>2016</th>\n",
       "      <th>2017</th>\n",
       "      <th>2018</th>\n",
       "      <th>2019</th>\n",
       "      <th>2020</th>\n",
       "      <th>2021</th>\n",
       "    </tr>\n",
       "  </thead>\n",
       "  <tbody>\n",
       "    <tr>\n",
       "      <th>출생아 수</th>\n",
       "      <td>484.600</td>\n",
       "      <td>436.500</td>\n",
       "      <td>435.400</td>\n",
       "      <td>438.400</td>\n",
       "      <td>406.200</td>\n",
       "      <td>357.800</td>\n",
       "      <td>326.800</td>\n",
       "      <td>302.700</td>\n",
       "      <td>272.300</td>\n",
       "      <td>260.600</td>\n",
       "    </tr>\n",
       "    <tr>\n",
       "      <th>합계 출산율</th>\n",
       "      <td>1.297</td>\n",
       "      <td>1.187</td>\n",
       "      <td>1.205</td>\n",
       "      <td>1.239</td>\n",
       "      <td>1.172</td>\n",
       "      <td>1.052</td>\n",
       "      <td>0.977</td>\n",
       "      <td>0.918</td>\n",
       "      <td>0.837</td>\n",
       "      <td>0.808</td>\n",
       "    </tr>\n",
       "  </tbody>\n",
       "</table>\n",
       "</div>"
      ],
      "text/plain": [
       "           2012     2013     2014     2015     2016     2017     2018  \\\n",
       "출생아 수   484.600  436.500  435.400  438.400  406.200  357.800  326.800   \n",
       "합계 출산율    1.297    1.187    1.205    1.239    1.172    1.052    0.977   \n",
       "\n",
       "           2019     2020     2021  \n",
       "출생아 수   302.700  272.300  260.600  \n",
       "합계 출산율    0.918    0.837    0.808  "
      ]
     },
     "execution_count": 25,
     "metadata": {},
     "output_type": "execute_result"
    }
   ],
   "source": [
    "df"
   ]
  },
  {
   "cell_type": "code",
   "execution_count": 31,
   "id": "a7c207f8",
   "metadata": {},
   "outputs": [
    {
     "data": {
      "text/html": [
       "<div>\n",
       "<style scoped>\n",
       "    .dataframe tbody tr th:only-of-type {\n",
       "        vertical-align: middle;\n",
       "    }\n",
       "\n",
       "    .dataframe tbody tr th {\n",
       "        vertical-align: top;\n",
       "    }\n",
       "\n",
       "    .dataframe thead th {\n",
       "        text-align: right;\n",
       "    }\n",
       "</style>\n",
       "<table border=\"1\" class=\"dataframe\">\n",
       "  <thead>\n",
       "    <tr style=\"text-align: right;\">\n",
       "      <th></th>\n",
       "      <th>출생아 수</th>\n",
       "      <th>합계 출산율</th>\n",
       "    </tr>\n",
       "  </thead>\n",
       "  <tbody>\n",
       "    <tr>\n",
       "      <th>2012</th>\n",
       "      <td>484.6</td>\n",
       "      <td>1.297</td>\n",
       "    </tr>\n",
       "    <tr>\n",
       "      <th>2013</th>\n",
       "      <td>436.5</td>\n",
       "      <td>1.187</td>\n",
       "    </tr>\n",
       "    <tr>\n",
       "      <th>2014</th>\n",
       "      <td>435.4</td>\n",
       "      <td>1.205</td>\n",
       "    </tr>\n",
       "    <tr>\n",
       "      <th>2015</th>\n",
       "      <td>438.4</td>\n",
       "      <td>1.239</td>\n",
       "    </tr>\n",
       "    <tr>\n",
       "      <th>2016</th>\n",
       "      <td>406.2</td>\n",
       "      <td>1.172</td>\n",
       "    </tr>\n",
       "    <tr>\n",
       "      <th>2017</th>\n",
       "      <td>357.8</td>\n",
       "      <td>1.052</td>\n",
       "    </tr>\n",
       "    <tr>\n",
       "      <th>2018</th>\n",
       "      <td>326.8</td>\n",
       "      <td>0.977</td>\n",
       "    </tr>\n",
       "    <tr>\n",
       "      <th>2019</th>\n",
       "      <td>302.7</td>\n",
       "      <td>0.918</td>\n",
       "    </tr>\n",
       "    <tr>\n",
       "      <th>2020</th>\n",
       "      <td>272.3</td>\n",
       "      <td>0.837</td>\n",
       "    </tr>\n",
       "    <tr>\n",
       "      <th>2021</th>\n",
       "      <td>260.6</td>\n",
       "      <td>0.808</td>\n",
       "    </tr>\n",
       "  </tbody>\n",
       "</table>\n",
       "</div>"
      ],
      "text/plain": [
       "      출생아 수  합계 출산율\n",
       "2012  484.6   1.297\n",
       "2013  436.5   1.187\n",
       "2014  435.4   1.205\n",
       "2015  438.4   1.239\n",
       "2016  406.2   1.172\n",
       "2017  357.8   1.052\n",
       "2018  326.8   0.977\n",
       "2019  302.7   0.918\n",
       "2020  272.3   0.837\n",
       "2021  260.6   0.808"
      ]
     },
     "execution_count": 31,
     "metadata": {},
     "output_type": "execute_result"
    }
   ],
   "source": [
    "df = df.T\n",
    "df"
   ]
  },
  {
   "cell_type": "code",
   "execution_count": 34,
   "id": "e8d12977",
   "metadata": {
    "scrolled": true
   },
   "outputs": [],
   "source": [
    "import matplotlib\n",
    "import matplotlib.pyplot as plt\n",
    "matplotlib.rcParams['font.family'] = 'Malgun Gothic'\n",
    "matplotlib.rcParams['font.size'] = 13\n",
    "matplotlib.rcParams['axes.unicode_minus'] = False"
   ]
  },
  {
   "cell_type": "code",
   "execution_count": 39,
   "id": "4851c494",
   "metadata": {},
   "outputs": [
    {
     "data": {
      "text/plain": [
       "[<matplotlib.lines.Line2D at 0x1f594c5b430>]"
      ]
     },
     "execution_count": 39,
     "metadata": {},
     "output_type": "execute_result"
    },
    {
     "data": {
      "image/png": "[encoded data removed]",
      "text/plain": [
       "<Figure size 640x480 with 1 Axes>"
      ]
     },
     "metadata": {},
     "output_type": "display_data"
    }
   ],
   "source": [
    "plt.plot(df.index, df['출생아 수'])\n",
    "plt.plot(df.index, df['합계 출산율'])"
   ]
  },
  {
   "cell_type": "code",
   "execution_count": 50,
   "id": "2a9b6a7d",
   "metadata": {},
   "outputs": [
    {
     "data": {
      "text/plain": [
       "[<matplotlib.lines.Line2D at 0x1f5956dec40>]"
      ]
     },
     "execution_count": 50,
     "metadata": {},
     "output_type": "execute_result"
    },
    {
     "data": {
      "image/png": "[encoded data removed]",
      "text/plain": [
       "<Figure size 1000x700 with 2 Axes>"
      ]
     },
     "metadata": {},
     "output_type": "display_data"
    }
   ],
   "source": [
    "fig, ax1 = plt.subplots(figsize = (10, 7))\n",
    "ax1.plot(df.index, df['출생아 수'], color= '#ff812d')\n",
    "\n",
    "ax2 = ax1.twinx() # x 축을 공유하는 쌍둥이 axis\n",
    "ax2.plot(df.index, df['합계 출산율'], color= '#ffd100')"
   ]
  },
  {
   "cell_type": "code",
   "execution_count": 62,
   "id": "eb085dbf",
   "metadata": {},
   "outputs": [
    {
     "data": {
      "text/plain": [
       "[<matplotlib.lines.Line2D at 0x1f598afba30>]"
      ]
     },
     "execution_count": 62,
     "metadata": {},
     "output_type": "execute_result"
    },
    {
     "data": {
      "image/png": "[encoded data removed]",
      "text/plain": [
       "<Figure size 1300x550 with 2 Axes>"
      ]
     },
     "metadata": {},
     "output_type": "display_data"
    }
   ],
   "source": [
    "fig, ax1 = plt.subplots(figsize = (13, 5.5))\n",
    "ax1.set_ylabel('출생아 수 (천 명)')\n",
    "ax1.set_ylim(250, 700)\n",
    "ax1.set_yticks([300,400,500,600])\n",
    "ax1.bar(df.index, df['출생아 수'], color= '#ff812d')\n",
    "\n",
    "ax2 = ax1.twinx() # x 축을 공유하는 쌍둥이 axis\n",
    "ax2.set_ylabel('합계 출산율 (가임여성 1명당 명)')\n",
    "ax2.set_ylim(0, 2)\n",
    "ax2.set_yticks([0,1])\n",
    "ax2.plot(df.index, df['합계 출산율'], color= '#ffd100')"
   ]
  },
  {
   "cell_type": "code",
   "execution_count": null,
   "id": "79eea2e6",
   "metadata": {},
   "outputs": [],
   "source": [
    "fig, ax1 = plt.subplots(figsize = (13, 5.5))\n",
    "ax1.set_ylabel('출생아 수 (천 명)')\n",
    "ax1.set_ylim(250, 700)\n",
    "ax1.set_yticks([300,400,500,600])\n",
    "ax1.bar(df.index, df['출생아 수'], color= '#ff812d')\n",
    "\n",
    "\n",
    "ax2 = ax1.twinx() # x 축을 공유하는 쌍둥이 axis\n",
    "ax2.set_ylabel('합계 출산율 (가임여성 1명당 명)')\n",
    "ax2.set_ylim(0, 2)\n",
    "ax2.set_yticks([0,1])\n",
    "ax2.plot(df.index, df['합계 출산율'], color= '#ffd100')"
   ]
  },
  {
   "cell_type": "code",
   "execution_count": null,
   "id": "4f4cd907",
   "metadata": {},
   "outputs": [],
   "source": []
  },
  {
   "cell_type": "code",
   "execution_count": null,
   "id": "97ef3aee",
   "metadata": {},
   "outputs": [],
   "source": []
  },
  {
   "cell_type": "code",
   "execution_count": null,
   "id": "37fbd159",
   "metadata": {},
   "outputs": [],
   "source": []
  }
 ],
 "metadata": {
  "kernelspec": {
   "display_name": "Python 3 (ipykernel)",
   "language": "python",
   "name": "python3"
  },
  "language_info": {
   "codemirror_mode": {
    "name": "ipython",
    "version": 3
   },
   "file_extension": ".py",
   "mimetype": "text/x-python",
   "name": "python",
   "nbconvert_exporter": "python",
   "pygments_lexer": "ipython3",
   "version": "3.9.13"
  }
 },
 "nbformat": 4,
 "nbformat_minor": 5
}
